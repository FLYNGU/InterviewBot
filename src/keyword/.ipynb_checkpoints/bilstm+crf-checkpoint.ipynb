{
 "cells": [
  {
   "cell_type": "code",
   "execution_count": 1,
   "metadata": {
    "ExecuteTime": {
     "end_time": "2021-08-23T15:18:23.001582Z",
     "start_time": "2021-08-23T15:18:22.409065Z"
    }
   },
   "outputs": [
    {
     "name": "stdout",
     "output_type": "stream",
     "text": [
      "d_model : 768\n",
      "hid_dim : 300\n",
      "epoch : 100\n",
      "batch_size : 100\n",
      "n_layers : 2\n",
      "dropout : 0.1\n",
      "device : cuda:0\n",
      "lr : 0.001\n",
      "momentum : 0.99\n"
     ]
    }
   ],
   "source": [
    "from collections import defaultdict\n",
    "from operator import itemgetter\n",
    "from tqdm import tqdm\n",
    "import numpy as np\n",
    "import random\n",
    "import torch \n",
    "import jieba\n",
    "import json\n",
    "import os\n",
    "\n",
    "import pickle as pk\n",
    "\n",
    "if torch.cuda.is_available():\n",
    "    device = torch.device('cuda:0')\n",
    "    torch.cuda.set_device(0)\n",
    "else:\n",
    "    device = torch.device('cpu')\n",
    "# 确定模型训练方式，GPU训练或CPU训练\n",
    "parameter_copy = {\n",
    "    # 此处embedding维度为768\n",
    "    'd_model':768, \n",
    "    # rnn的隐层维度为300\n",
    "    'hid_dim':300,\n",
    "    # 训练的批次为100轮\n",
    "    'epoch':100,\n",
    "    # 单次训练的batch_size为100条数据\n",
    "    'batch_size':100,\n",
    "    # 设置序列的最大长度为100\n",
    "    'n_layers':2,\n",
    "    # 设置dropout，为防止过拟合\n",
    "    'dropout':0.1,\n",
    "    # 配置cpu、gpu\n",
    "    'device':device,\n",
    "    # 设置训练学习率\n",
    "    'lr':0.001,\n",
    "    # 优化器的参数，动量主要用于随机梯度下降\n",
    "    'momentum':0.99,\n",
    "}\n",
    "\n",
    "def build_dataSet(parameter):\n",
    "    data_name = ['train','dev']\n",
    "    data_set = {}\n",
    "    key_table = defaultdict(int)\n",
    "    vocab_table = defaultdict(int)\n",
    "    vocab_table['<PAD>'] = 0\n",
    "    vocab_table['<UNK>'] = 0\n",
    "    for i in data_name:\n",
    "        data_set[i] = []\n",
    "        data_src = open('data/'+i+'.json','r',encoding = 'utf-8').readlines()\n",
    "        for data in data_src:\n",
    "            data = json.loads(data)\n",
    "            text = list(data['text'])\n",
    "            label = data['label']\n",
    "            label_new = ['O']*len(text)\n",
    "            key_table['O']\n",
    "            for keys in label:\n",
    "                inds = label[keys].values()\n",
    "                for id_list in inds:\n",
    "                    for ind in id_list:\n",
    "                        if ind[1] - ind[0] == 0:\n",
    "                            keys_list = ['S-'+keys]\n",
    "                            label_new[ind[0]] = keys_list[0]\n",
    "                        if ind[1] - ind[0] == 1:\n",
    "                            keys_list = ['B-'+keys,'E-'+keys]\n",
    "                            label_new[ind[0]] = keys_list[0]\n",
    "                            label_new[ind[1]] = keys_list[1]\n",
    "                        if ind[1] - ind[0] > 1:\n",
    "                            keys_list = ['B-'+keys,'I-'+keys,'E-'+keys]\n",
    "                            label_new[ind[0]] = keys_list[0]\n",
    "                            label_new[ind[0]+1:ind[1]] = [keys_list[1]]*(ind[1]-1-ind[0])\n",
    "                            label_new[ind[1]] = keys_list[2]\n",
    "                        for key in keys_list:\n",
    "                            key_table[key] += 1\n",
    "            for j in text:\n",
    "                vocab_table[j] += 1\n",
    "            data_set[i].append([text,label_new])\n",
    "    key2ind = dict(zip(key_table.keys(),range(len(key_table))))\n",
    "    ind2key = dict(zip(range(len(key_table)),key_table.keys()))\n",
    "    word2ind = dict(zip(vocab_table.keys(),range(len(vocab_table))))\n",
    "    ind2word = dict(zip(range(len(vocab_table)),vocab_table.keys()))\n",
    "    parameter['key2ind'] = key2ind\n",
    "    parameter['ind2key'] = ind2key\n",
    "    parameter['word2ind'] = word2ind\n",
    "    parameter['ind2word'] = ind2word\n",
    "    parameter['data_set'] = data_set\n",
    "    parameter['output_size'] = len(key2ind)\n",
    "    parameter['word_size'] = len(word2ind)\n",
    "    return parameter\n",
    "\n",
    "\n",
    "def batch_yield(parameter,shuffle = True,isTrain = True):\n",
    "    data_set = parameter['data_set']['train'] if isTrain else parameter['data_set']['dev']\n",
    "    Epoch = parameter['epoch'] if isTrain else 1\n",
    "    for epoch in range(Epoch):\n",
    "        # 每轮对原始数据进行随机化\n",
    "        if shuffle:\n",
    "            random.shuffle(data_set)\n",
    "        inputs,targets = [],[]\n",
    "        max_len = 0\n",
    "        for items in tqdm(data_set):\n",
    "            input = itemgetter(*items[0])(parameter['word2ind'])\n",
    "            target = itemgetter(*items[1])(parameter['key2ind'])\n",
    "            input = input if type(input) == type(()) else (input,0)\n",
    "            target = target if type(target) == type(()) else (target,0)\n",
    "            if len(input) > max_len:\n",
    "                max_len = len(input)\n",
    "            inputs.append(list(input))\n",
    "            targets.append(list(target))\n",
    "            if len(inputs) >= parameter['batch_size']:\n",
    "                inputs = [i+[0]*(max_len-len(i)) for i in inputs]\n",
    "                targets = [i+[0]*(max_len-len(i)) for i in targets]\n",
    "                yield list2torch(inputs),list2torch(targets),None,False\n",
    "                inputs,targets = [],[]\n",
    "                max_len = 0\n",
    "        inputs = [i+[0]*(max_len-len(i)) for i in inputs]\n",
    "        targets = [i+[0]*(max_len-len(i)) for i in targets]\n",
    "        yield list2torch(inputs),list2torch(targets),epoch,False\n",
    "        inputs,targets = [],[]\n",
    "        max_len = 0\n",
    "    yield None,None,None,True\n",
    "            \n",
    "\n",
    "def list2torch(ins):\n",
    "    return torch.from_numpy(np.array(ins))\n",
    "\n",
    "# 因此这边提前配置好用于训练的相关参数\n",
    "# 不要每次重新生成\n",
    "if not os.path.exists('parameter.pkl'):\n",
    "    parameter = parameter_copy\n",
    "    # 构建相关字典和对应的数据集\n",
    "    parameter = build_dataSet(parameter)\n",
    "    pk.dump(parameter,open('parameter.pkl','wb'))\n",
    "else:\n",
    "    # 读取已经处理好的parameter，但是考虑到模型训练的参数会发生变化，\n",
    "    # 因此此处对于parameter中模型训练参数进行替换\n",
    "    parameter = pk.load(open('parameter.pkl','rb'))\n",
    "    for i in parameter_copy.keys():\n",
    "        if i not in parameter:\n",
    "            parameter[i] = parameter_copy[i]\n",
    "            continue\n",
    "        if parameter_copy[i] != parameter[i]:\n",
    "            parameter[i] = parameter_copy[i]\n",
    "    for i in parameter_copy.keys():\n",
    "        print(i,':',parameter[i])\n",
    "    pk.dump(parameter,open('parameter.pkl','wb'))\n",
    "    del parameter_copy,i"
   ]
  },
  {
   "cell_type": "code",
   "execution_count": 3,
   "metadata": {
    "ExecuteTime": {
     "end_time": "2021-08-23T15:18:30.480636Z",
     "start_time": "2021-08-23T15:18:30.461687Z"
    }
   },
   "outputs": [
    {
     "name": "stderr",
     "output_type": "stream",
     "text": [
      "  1%|▋                                                                           | 99/10748 [00:00<00:00, 49627.84it/s]\n"
     ]
    }
   ],
   "source": [
    "test_input,test_target,_,_ = next(batch_yield(parameter))"
   ]
  },
  {
   "cell_type": "code",
   "execution_count": 2,
   "metadata": {
    "ExecuteTime": {
     "end_time": "2021-08-23T09:20:10.972257Z",
     "start_time": "2021-08-23T09:20:10.953227Z"
    }
   },
   "outputs": [],
   "source": [
    "import torch.nn.functional as F # pytorch 激活函数的类\n",
    "from torch import nn,optim # 构建模型和优化器\n",
    "from torchcrf import CRF\n",
    "\n",
    "\n",
    "# 构建基于bilstm实现ner\n",
    "class bilstm_crf(nn.Module):\n",
    "    def __init__(self, parameter):\n",
    "        super(bilstm_crf, self).__init__()\n",
    "        word_size = parameter['word_size']\n",
    "        embedding_dim = parameter['d_model']\n",
    "        self.embedding = nn.Embedding(word_size, embedding_dim, padding_idx=0)\n",
    "\n",
    "        hidden_size = parameter['hid_dim']\n",
    "        num_layers = parameter['n_layers']\n",
    "        dropout = parameter['dropout']\n",
    "        self.lstm = nn.LSTM(embedding_dim, hidden_size, num_layers, bidirectional=True, batch_first=True, dropout=dropout)\n",
    "\n",
    "        output_size = parameter['output_size']\n",
    "        self.fc = nn.Linear(hidden_size*2, output_size)\n",
    "        \n",
    "        self.crf = CRF(output_size,batch_first=True)\n",
    "        \n",
    "    def forward(self, x):\n",
    "        out = self.embedding(x)\n",
    "        out,(h, c)= self.lstm(out)\n",
    "        out = self.fc(out)\n",
    "        return out"
   ]
  },
  {
   "cell_type": "code",
   "execution_count": 3,
   "metadata": {
    "ExecuteTime": {
     "end_time": "2021-08-23T09:52:01.852305Z",
     "start_time": "2021-08-23T09:20:12.670226Z"
    }
   },
   "outputs": [
    {
     "name": "stderr",
     "output_type": "stream",
     "text": [
      "D:\\Anaconda3-5.3\\envs\\nlp\\lib\\site-packages\\tensorboard\\compat\\tensorflow_stub\\dtypes.py:541: FutureWarning: Passing (type, 1) or '1type' as a synonym of type is deprecated; in a future version of numpy, it will be understood as (type, (1,)) / '(1,)type'.\n",
      "  _np_qint8 = np.dtype([(\"qint8\", np.int8, 1)])\n",
      "D:\\Anaconda3-5.3\\envs\\nlp\\lib\\site-packages\\tensorboard\\compat\\tensorflow_stub\\dtypes.py:542: FutureWarning: Passing (type, 1) or '1type' as a synonym of type is deprecated; in a future version of numpy, it will be understood as (type, (1,)) / '(1,)type'.\n",
      "  _np_quint8 = np.dtype([(\"quint8\", np.uint8, 1)])\n",
      "D:\\Anaconda3-5.3\\envs\\nlp\\lib\\site-packages\\tensorboard\\compat\\tensorflow_stub\\dtypes.py:543: FutureWarning: Passing (type, 1) or '1type' as a synonym of type is deprecated; in a future version of numpy, it will be understood as (type, (1,)) / '(1,)type'.\n",
      "  _np_qint16 = np.dtype([(\"qint16\", np.int16, 1)])\n",
      "D:\\Anaconda3-5.3\\envs\\nlp\\lib\\site-packages\\tensorboard\\compat\\tensorflow_stub\\dtypes.py:544: FutureWarning: Passing (type, 1) or '1type' as a synonym of type is deprecated; in a future version of numpy, it will be understood as (type, (1,)) / '(1,)type'.\n",
      "  _np_quint16 = np.dtype([(\"quint16\", np.uint16, 1)])\n",
      "D:\\Anaconda3-5.3\\envs\\nlp\\lib\\site-packages\\tensorboard\\compat\\tensorflow_stub\\dtypes.py:545: FutureWarning: Passing (type, 1) or '1type' as a synonym of type is deprecated; in a future version of numpy, it will be understood as (type, (1,)) / '(1,)type'.\n",
      "  _np_qint32 = np.dtype([(\"qint32\", np.int32, 1)])\n",
      "D:\\Anaconda3-5.3\\envs\\nlp\\lib\\site-packages\\tensorboard\\compat\\tensorflow_stub\\dtypes.py:550: FutureWarning: Passing (type, 1) or '1type' as a synonym of type is deprecated; in a future version of numpy, it will be understood as (type, (1,)) / '(1,)type'.\n",
      "  np_resource = np.dtype([(\"resource\", np.ubyte, 1)])\n",
      "100%|███████████████████████████████████████████████████████████████████████████| 10748/10748 [00:19<00:00, 551.31it/s]\n",
      "  1%|▋                                                                            | 100/10748 [00:00<00:17, 612.17it/s]"
     ]
    },
    {
     "name": "stdout",
     "output_type": "stream",
     "text": [
      "epoch [1/100], Loss: 3299.8201\n"
     ]
    },
    {
     "name": "stderr",
     "output_type": "stream",
     "text": [
      "100%|███████████████████████████████████████████████████████████████████████████| 10748/10748 [00:19<00:00, 547.14it/s]\n",
      "  1%|▋                                                                            | 100/10748 [00:00<00:17, 592.59it/s]"
     ]
    },
    {
     "name": "stdout",
     "output_type": "stream",
     "text": [
      "epoch [2/100], Loss: 948.1050\n"
     ]
    },
    {
     "name": "stderr",
     "output_type": "stream",
     "text": [
      "100%|███████████████████████████████████████████████████████████████████████████| 10748/10748 [00:19<00:00, 546.51it/s]\n",
      "  0%|                                                                                        | 0/10748 [00:00<?, ?it/s]"
     ]
    },
    {
     "name": "stdout",
     "output_type": "stream",
     "text": [
      "epoch [3/100], Loss: 568.2584\n"
     ]
    },
    {
     "name": "stderr",
     "output_type": "stream",
     "text": [
      "100%|███████████████████████████████████████████████████████████████████████████| 10748/10748 [00:19<00:00, 542.07it/s]\n",
      "  0%|                                                                                        | 0/10748 [00:00<?, ?it/s]"
     ]
    },
    {
     "name": "stdout",
     "output_type": "stream",
     "text": [
      "epoch [4/100], Loss: 417.6999\n"
     ]
    },
    {
     "name": "stderr",
     "output_type": "stream",
     "text": [
      "100%|███████████████████████████████████████████████████████████████████████████| 10748/10748 [00:19<00:00, 552.22it/s]\n",
      "  0%|                                                                                        | 0/10748 [00:00<?, ?it/s]"
     ]
    },
    {
     "name": "stdout",
     "output_type": "stream",
     "text": [
      "epoch [5/100], Loss: 325.8806\n"
     ]
    },
    {
     "name": "stderr",
     "output_type": "stream",
     "text": [
      "100%|███████████████████████████████████████████████████████████████████████████| 10748/10748 [00:19<00:00, 547.66it/s]\n",
      "  1%|▋                                                                            | 100/10748 [00:00<00:17, 602.10it/s]"
     ]
    },
    {
     "name": "stdout",
     "output_type": "stream",
     "text": [
      "epoch [6/100], Loss: 260.2512\n"
     ]
    },
    {
     "name": "stderr",
     "output_type": "stream",
     "text": [
      "100%|███████████████████████████████████████████████████████████████████████████| 10748/10748 [00:19<00:00, 551.43it/s]\n",
      "  0%|                                                                                        | 0/10748 [00:00<?, ?it/s]"
     ]
    },
    {
     "name": "stdout",
     "output_type": "stream",
     "text": [
      "epoch [7/100], Loss: 209.4002\n"
     ]
    },
    {
     "name": "stderr",
     "output_type": "stream",
     "text": [
      "100%|███████████████████████████████████████████████████████████████████████████| 10748/10748 [00:19<00:00, 551.32it/s]\n",
      "  0%|                                                                                        | 0/10748 [00:00<?, ?it/s]"
     ]
    },
    {
     "name": "stdout",
     "output_type": "stream",
     "text": [
      "epoch [8/100], Loss: 170.4296\n"
     ]
    },
    {
     "name": "stderr",
     "output_type": "stream",
     "text": [
      "100%|███████████████████████████████████████████████████████████████████████████| 10748/10748 [00:19<00:00, 548.25it/s]\n",
      "  0%|                                                                                        | 0/10748 [00:00<?, ?it/s]"
     ]
    },
    {
     "name": "stdout",
     "output_type": "stream",
     "text": [
      "epoch [9/100], Loss: 133.6373\n"
     ]
    },
    {
     "name": "stderr",
     "output_type": "stream",
     "text": [
      "100%|███████████████████████████████████████████████████████████████████████████| 10748/10748 [00:19<00:00, 548.52it/s]\n",
      "  1%|▋                                                                            | 100/10748 [00:00<00:17, 614.30it/s]"
     ]
    },
    {
     "name": "stdout",
     "output_type": "stream",
     "text": [
      "epoch [10/100], Loss: 112.1475\n"
     ]
    },
    {
     "name": "stderr",
     "output_type": "stream",
     "text": [
      "100%|███████████████████████████████████████████████████████████████████████████| 10748/10748 [00:19<00:00, 548.78it/s]\n",
      "  1%|▋                                                                            | 100/10748 [00:00<00:17, 591.94it/s]"
     ]
    },
    {
     "name": "stdout",
     "output_type": "stream",
     "text": [
      "epoch [11/100], Loss: 88.7352\n"
     ]
    },
    {
     "name": "stderr",
     "output_type": "stream",
     "text": [
      "100%|███████████████████████████████████████████████████████████████████████████| 10748/10748 [00:19<00:00, 543.23it/s]\n",
      "  1%|▋                                                                            | 100/10748 [00:00<00:17, 611.20it/s]"
     ]
    },
    {
     "name": "stdout",
     "output_type": "stream",
     "text": [
      "epoch [12/100], Loss: 73.5775\n"
     ]
    },
    {
     "name": "stderr",
     "output_type": "stream",
     "text": [
      "100%|███████████████████████████████████████████████████████████████████████████| 10748/10748 [00:19<00:00, 561.40it/s]\n",
      "  0%|                                                                                        | 0/10748 [00:00<?, ?it/s]"
     ]
    },
    {
     "name": "stdout",
     "output_type": "stream",
     "text": [
      "epoch [13/100], Loss: 66.0690\n"
     ]
    },
    {
     "name": "stderr",
     "output_type": "stream",
     "text": [
      "100%|███████████████████████████████████████████████████████████████████████████| 10748/10748 [00:19<00:00, 552.20it/s]\n",
      "  0%|                                                                                        | 0/10748 [00:00<?, ?it/s]"
     ]
    },
    {
     "name": "stdout",
     "output_type": "stream",
     "text": [
      "epoch [14/100], Loss: 56.2731\n"
     ]
    },
    {
     "name": "stderr",
     "output_type": "stream",
     "text": [
      "100%|███████████████████████████████████████████████████████████████████████████| 10748/10748 [00:20<00:00, 536.14it/s]\n",
      "  1%|▋                                                                            | 100/10748 [00:00<00:17, 609.65it/s]"
     ]
    },
    {
     "name": "stdout",
     "output_type": "stream",
     "text": [
      "epoch [15/100], Loss: 46.7960\n"
     ]
    },
    {
     "name": "stderr",
     "output_type": "stream",
     "text": [
      "100%|███████████████████████████████████████████████████████████████████████████| 10748/10748 [00:19<00:00, 548.89it/s]\n",
      "  0%|                                                                                        | 0/10748 [00:00<?, ?it/s]"
     ]
    },
    {
     "name": "stdout",
     "output_type": "stream",
     "text": [
      "epoch [16/100], Loss: 40.5282\n"
     ]
    },
    {
     "name": "stderr",
     "output_type": "stream",
     "text": [
      "100%|███████████████████████████████████████████████████████████████████████████| 10748/10748 [00:19<00:00, 553.67it/s]\n",
      "  0%|                                                                                        | 0/10748 [00:00<?, ?it/s]"
     ]
    },
    {
     "name": "stdout",
     "output_type": "stream",
     "text": [
      "epoch [17/100], Loss: 34.9295\n"
     ]
    },
    {
     "name": "stderr",
     "output_type": "stream",
     "text": [
      "100%|███████████████████████████████████████████████████████████████████████████| 10748/10748 [00:19<00:00, 557.65it/s]\n",
      "  0%|                                                                                        | 0/10748 [00:00<?, ?it/s]"
     ]
    },
    {
     "name": "stdout",
     "output_type": "stream",
     "text": [
      "epoch [18/100], Loss: 29.2800\n"
     ]
    },
    {
     "name": "stderr",
     "output_type": "stream",
     "text": [
      "100%|███████████████████████████████████████████████████████████████████████████| 10748/10748 [00:19<00:00, 553.34it/s]\n",
      "  1%|▋                                                                            | 100/10748 [00:00<00:17, 599.68it/s]"
     ]
    },
    {
     "name": "stdout",
     "output_type": "stream",
     "text": [
      "epoch [19/100], Loss: 26.0472\n"
     ]
    },
    {
     "name": "stderr",
     "output_type": "stream",
     "text": [
      "100%|███████████████████████████████████████████████████████████████████████████| 10748/10748 [00:19<00:00, 550.64it/s]\n",
      "  0%|                                                                                        | 0/10748 [00:00<?, ?it/s]"
     ]
    },
    {
     "name": "stdout",
     "output_type": "stream",
     "text": [
      "epoch [20/100], Loss: 25.7648\n"
     ]
    },
    {
     "name": "stderr",
     "output_type": "stream",
     "text": [
      "100%|███████████████████████████████████████████████████████████████████████████| 10748/10748 [00:19<00:00, 556.27it/s]\n",
      "  0%|                                                                                        | 0/10748 [00:00<?, ?it/s]"
     ]
    },
    {
     "name": "stdout",
     "output_type": "stream",
     "text": [
      "epoch [21/100], Loss: 27.7144\n"
     ]
    },
    {
     "name": "stderr",
     "output_type": "stream",
     "text": [
      "100%|███████████████████████████████████████████████████████████████████████████| 10748/10748 [00:19<00:00, 549.91it/s]\n",
      "  0%|                                                                                        | 0/10748 [00:00<?, ?it/s]"
     ]
    },
    {
     "name": "stdout",
     "output_type": "stream",
     "text": [
      "epoch [22/100], Loss: 25.1233\n"
     ]
    },
    {
     "name": "stderr",
     "output_type": "stream",
     "text": [
      "100%|███████████████████████████████████████████████████████████████████████████| 10748/10748 [00:19<00:00, 547.21it/s]\n",
      "  1%|▋                                                                            | 100/10748 [00:00<00:19, 549.92it/s]"
     ]
    },
    {
     "name": "stdout",
     "output_type": "stream",
     "text": [
      "epoch [23/100], Loss: 23.1359\n"
     ]
    },
    {
     "name": "stderr",
     "output_type": "stream",
     "text": [
      "100%|███████████████████████████████████████████████████████████████████████████| 10748/10748 [00:19<00:00, 539.03it/s]\n",
      "  1%|▋                                                                            | 100/10748 [00:00<00:17, 605.15it/s]"
     ]
    },
    {
     "name": "stdout",
     "output_type": "stream",
     "text": [
      "epoch [24/100], Loss: 22.4049\n"
     ]
    },
    {
     "name": "stderr",
     "output_type": "stream",
     "text": [
      "100%|███████████████████████████████████████████████████████████████████████████| 10748/10748 [00:19<00:00, 542.13it/s]\n",
      "  0%|                                                                                        | 0/10748 [00:00<?, ?it/s]"
     ]
    },
    {
     "name": "stdout",
     "output_type": "stream",
     "text": [
      "epoch [25/100], Loss: 16.5954\n"
     ]
    },
    {
     "name": "stderr",
     "output_type": "stream",
     "text": [
      "100%|███████████████████████████████████████████████████████████████████████████| 10748/10748 [00:19<00:00, 546.98it/s]\n",
      "  1%|▋                                                                            | 100/10748 [00:00<00:17, 609.95it/s]"
     ]
    },
    {
     "name": "stdout",
     "output_type": "stream",
     "text": [
      "epoch [26/100], Loss: 16.7088\n"
     ]
    },
    {
     "name": "stderr",
     "output_type": "stream",
     "text": [
      "100%|███████████████████████████████████████████████████████████████████████████| 10748/10748 [00:19<00:00, 556.80it/s]\n",
      "  1%|▋                                                                            | 100/10748 [00:00<00:17, 595.31it/s]"
     ]
    },
    {
     "name": "stdout",
     "output_type": "stream",
     "text": [
      "epoch [27/100], Loss: 13.9117\n"
     ]
    },
    {
     "name": "stderr",
     "output_type": "stream",
     "text": [
      "100%|███████████████████████████████████████████████████████████████████████████| 10748/10748 [00:19<00:00, 546.28it/s]\n",
      "  0%|                                                                                        | 0/10748 [00:00<?, ?it/s]"
     ]
    },
    {
     "name": "stdout",
     "output_type": "stream",
     "text": [
      "epoch [28/100], Loss: 12.7498\n"
     ]
    },
    {
     "name": "stderr",
     "output_type": "stream",
     "text": [
      "100%|███████████████████████████████████████████████████████████████████████████| 10748/10748 [00:18<00:00, 568.52it/s]\n",
      "  1%|▋                                                                            | 100/10748 [00:00<00:18, 590.09it/s]"
     ]
    },
    {
     "name": "stdout",
     "output_type": "stream",
     "text": [
      "epoch [29/100], Loss: 11.7189\n"
     ]
    },
    {
     "name": "stderr",
     "output_type": "stream",
     "text": [
      "100%|███████████████████████████████████████████████████████████████████████████| 10748/10748 [00:18<00:00, 569.34it/s]\n",
      "  0%|                                                                                        | 0/10748 [00:00<?, ?it/s]"
     ]
    },
    {
     "name": "stdout",
     "output_type": "stream",
     "text": [
      "epoch [30/100], Loss: 9.9992\n"
     ]
    },
    {
     "name": "stderr",
     "output_type": "stream",
     "text": [
      "100%|███████████████████████████████████████████████████████████████████████████| 10748/10748 [00:19<00:00, 539.49it/s]\n",
      "  0%|                                                                                        | 0/10748 [00:00<?, ?it/s]"
     ]
    },
    {
     "name": "stdout",
     "output_type": "stream",
     "text": [
      "epoch [31/100], Loss: 10.1662\n"
     ]
    },
    {
     "name": "stderr",
     "output_type": "stream",
     "text": [
      "100%|███████████████████████████████████████████████████████████████████████████| 10748/10748 [00:18<00:00, 579.42it/s]\n",
      "  1%|▋                                                                            | 100/10748 [00:00<00:17, 615.09it/s]"
     ]
    },
    {
     "name": "stdout",
     "output_type": "stream",
     "text": [
      "epoch [32/100], Loss: 9.0721\n"
     ]
    },
    {
     "name": "stderr",
     "output_type": "stream",
     "text": [
      "100%|███████████████████████████████████████████████████████████████████████████| 10748/10748 [00:18<00:00, 581.71it/s]\n",
      "  1%|▋                                                                            | 100/10748 [00:00<00:18, 584.78it/s]"
     ]
    },
    {
     "name": "stdout",
     "output_type": "stream",
     "text": [
      "epoch [33/100], Loss: 9.2351\n"
     ]
    },
    {
     "name": "stderr",
     "output_type": "stream",
     "text": [
      "100%|███████████████████████████████████████████████████████████████████████████| 10748/10748 [00:18<00:00, 588.92it/s]\n",
      "  1%|▋                                                                            | 100/10748 [00:00<00:17, 600.36it/s]"
     ]
    },
    {
     "name": "stdout",
     "output_type": "stream",
     "text": [
      "epoch [34/100], Loss: 8.3976\n"
     ]
    },
    {
     "name": "stderr",
     "output_type": "stream",
     "text": [
      "100%|███████████████████████████████████████████████████████████████████████████| 10748/10748 [00:18<00:00, 587.87it/s]\n",
      "  0%|                                                                                        | 0/10748 [00:00<?, ?it/s]"
     ]
    },
    {
     "name": "stdout",
     "output_type": "stream",
     "text": [
      "epoch [35/100], Loss: 8.4705\n"
     ]
    },
    {
     "name": "stderr",
     "output_type": "stream",
     "text": [
      "100%|███████████████████████████████████████████████████████████████████████████| 10748/10748 [00:18<00:00, 589.59it/s]\n",
      "  0%|                                                                                        | 0/10748 [00:00<?, ?it/s]"
     ]
    },
    {
     "name": "stdout",
     "output_type": "stream",
     "text": [
      "epoch [36/100], Loss: 8.0025\n"
     ]
    },
    {
     "name": "stderr",
     "output_type": "stream",
     "text": [
      "100%|███████████████████████████████████████████████████████████████████████████| 10748/10748 [00:18<00:00, 588.41it/s]\n",
      "  1%|▋                                                                            | 100/10748 [00:00<00:17, 607.57it/s]"
     ]
    },
    {
     "name": "stdout",
     "output_type": "stream",
     "text": [
      "epoch [37/100], Loss: 7.4351\n"
     ]
    },
    {
     "name": "stderr",
     "output_type": "stream",
     "text": [
      "100%|███████████████████████████████████████████████████████████████████████████| 10748/10748 [00:18<00:00, 583.75it/s]\n",
      "  0%|                                                                                        | 0/10748 [00:00<?, ?it/s]"
     ]
    },
    {
     "name": "stdout",
     "output_type": "stream",
     "text": [
      "epoch [38/100], Loss: 6.0042\n"
     ]
    },
    {
     "name": "stderr",
     "output_type": "stream",
     "text": [
      "100%|███████████████████████████████████████████████████████████████████████████| 10748/10748 [00:18<00:00, 575.13it/s]\n",
      "  1%|▋                                                                            | 100/10748 [00:00<00:17, 623.18it/s]"
     ]
    },
    {
     "name": "stdout",
     "output_type": "stream",
     "text": [
      "epoch [39/100], Loss: 5.9626\n"
     ]
    },
    {
     "name": "stderr",
     "output_type": "stream",
     "text": [
      "100%|███████████████████████████████████████████████████████████████████████████| 10748/10748 [00:18<00:00, 574.79it/s]\n",
      "  0%|                                                                                        | 0/10748 [00:00<?, ?it/s]"
     ]
    },
    {
     "name": "stdout",
     "output_type": "stream",
     "text": [
      "epoch [40/100], Loss: 5.5341\n"
     ]
    },
    {
     "name": "stderr",
     "output_type": "stream",
     "text": [
      "100%|███████████████████████████████████████████████████████████████████████████| 10748/10748 [00:18<00:00, 569.04it/s]\n",
      "  0%|                                                                                        | 0/10748 [00:00<?, ?it/s]"
     ]
    },
    {
     "name": "stdout",
     "output_type": "stream",
     "text": [
      "epoch [41/100], Loss: 6.1855\n"
     ]
    },
    {
     "name": "stderr",
     "output_type": "stream",
     "text": [
      "100%|███████████████████████████████████████████████████████████████████████████| 10748/10748 [00:18<00:00, 568.45it/s]\n",
      "  1%|▋                                                                            | 100/10748 [00:00<00:18, 580.47it/s]"
     ]
    },
    {
     "name": "stdout",
     "output_type": "stream",
     "text": [
      "epoch [42/100], Loss: 5.5650\n"
     ]
    },
    {
     "name": "stderr",
     "output_type": "stream",
     "text": [
      "100%|███████████████████████████████████████████████████████████████████████████| 10748/10748 [00:18<00:00, 577.20it/s]\n",
      "  1%|▋                                                                            | 100/10748 [00:00<00:17, 612.01it/s]"
     ]
    },
    {
     "name": "stdout",
     "output_type": "stream",
     "text": [
      "epoch [43/100], Loss: 5.4468\n"
     ]
    },
    {
     "name": "stderr",
     "output_type": "stream",
     "text": [
      "100%|███████████████████████████████████████████████████████████████████████████| 10748/10748 [00:18<00:00, 571.70it/s]\n",
      "  0%|                                                                                        | 0/10748 [00:00<?, ?it/s]"
     ]
    },
    {
     "name": "stdout",
     "output_type": "stream",
     "text": [
      "epoch [44/100], Loss: 5.3984\n"
     ]
    },
    {
     "name": "stderr",
     "output_type": "stream",
     "text": [
      "100%|███████████████████████████████████████████████████████████████████████████| 10748/10748 [00:18<00:00, 579.76it/s]\n",
      "  1%|▋                                                                            | 100/10748 [00:00<00:17, 607.05it/s]"
     ]
    },
    {
     "name": "stdout",
     "output_type": "stream",
     "text": [
      "epoch [45/100], Loss: 5.0428\n"
     ]
    },
    {
     "name": "stderr",
     "output_type": "stream",
     "text": [
      "100%|███████████████████████████████████████████████████████████████████████████| 10748/10748 [00:18<00:00, 583.72it/s]\n",
      "  1%|▋                                                                            | 100/10748 [00:00<00:17, 617.35it/s]"
     ]
    },
    {
     "name": "stdout",
     "output_type": "stream",
     "text": [
      "epoch [46/100], Loss: 4.6566\n"
     ]
    },
    {
     "name": "stderr",
     "output_type": "stream",
     "text": [
      "100%|███████████████████████████████████████████████████████████████████████████| 10748/10748 [00:18<00:00, 581.34it/s]\n",
      "  1%|▋                                                                            | 100/10748 [00:00<00:17, 600.37it/s]"
     ]
    },
    {
     "name": "stdout",
     "output_type": "stream",
     "text": [
      "epoch [47/100], Loss: 4.6174\n"
     ]
    },
    {
     "name": "stderr",
     "output_type": "stream",
     "text": [
      "100%|███████████████████████████████████████████████████████████████████████████| 10748/10748 [00:18<00:00, 577.71it/s]\n",
      "  0%|                                                                                        | 0/10748 [00:00<?, ?it/s]"
     ]
    },
    {
     "name": "stdout",
     "output_type": "stream",
     "text": [
      "epoch [48/100], Loss: 6.0792\n"
     ]
    },
    {
     "name": "stderr",
     "output_type": "stream",
     "text": [
      "100%|███████████████████████████████████████████████████████████████████████████| 10748/10748 [00:18<00:00, 581.54it/s]\n",
      "  0%|                                                                                        | 0/10748 [00:00<?, ?it/s]"
     ]
    },
    {
     "name": "stdout",
     "output_type": "stream",
     "text": [
      "epoch [49/100], Loss: 4.5538\n"
     ]
    },
    {
     "name": "stderr",
     "output_type": "stream",
     "text": [
      "100%|███████████████████████████████████████████████████████████████████████████| 10748/10748 [00:18<00:00, 577.21it/s]\n",
      "  0%|                                                                                        | 0/10748 [00:00<?, ?it/s]"
     ]
    },
    {
     "name": "stdout",
     "output_type": "stream",
     "text": [
      "epoch [50/100], Loss: 4.1256\n"
     ]
    },
    {
     "name": "stderr",
     "output_type": "stream",
     "text": [
      "100%|███████████████████████████████████████████████████████████████████████████| 10748/10748 [00:18<00:00, 574.88it/s]\n",
      "  1%|▋                                                                            | 100/10748 [00:00<00:18, 566.44it/s]"
     ]
    },
    {
     "name": "stdout",
     "output_type": "stream",
     "text": [
      "epoch [51/100], Loss: 3.7529\n"
     ]
    },
    {
     "name": "stderr",
     "output_type": "stream",
     "text": [
      "100%|███████████████████████████████████████████████████████████████████████████| 10748/10748 [00:18<00:00, 567.68it/s]\n",
      "  1%|▋                                                                            | 100/10748 [00:00<00:17, 611.38it/s]"
     ]
    },
    {
     "name": "stdout",
     "output_type": "stream",
     "text": [
      "epoch [52/100], Loss: 3.4405\n"
     ]
    },
    {
     "name": "stderr",
     "output_type": "stream",
     "text": [
      "100%|███████████████████████████████████████████████████████████████████████████| 10748/10748 [00:18<00:00, 573.51it/s]\n",
      "  1%|▋                                                                            | 100/10748 [00:00<00:17, 611.39it/s]"
     ]
    },
    {
     "name": "stdout",
     "output_type": "stream",
     "text": [
      "epoch [53/100], Loss: 3.5691\n"
     ]
    },
    {
     "name": "stderr",
     "output_type": "stream",
     "text": [
      "100%|███████████████████████████████████████████████████████████████████████████| 10748/10748 [00:18<00:00, 568.25it/s]\n",
      "  1%|▋                                                                            | 100/10748 [00:00<00:17, 611.39it/s]"
     ]
    },
    {
     "name": "stdout",
     "output_type": "stream",
     "text": [
      "epoch [54/100], Loss: 3.1819\n"
     ]
    },
    {
     "name": "stderr",
     "output_type": "stream",
     "text": [
      "100%|███████████████████████████████████████████████████████████████████████████| 10748/10748 [00:19<00:00, 564.86it/s]\n",
      "  0%|                                                                                        | 0/10748 [00:00<?, ?it/s]"
     ]
    },
    {
     "name": "stdout",
     "output_type": "stream",
     "text": [
      "epoch [55/100], Loss: 3.1101\n"
     ]
    },
    {
     "name": "stderr",
     "output_type": "stream",
     "text": [
      "100%|███████████████████████████████████████████████████████████████████████████| 10748/10748 [00:18<00:00, 571.00it/s]\n",
      "  1%|▋                                                                            | 100/10748 [00:00<00:18, 582.60it/s]"
     ]
    },
    {
     "name": "stdout",
     "output_type": "stream",
     "text": [
      "epoch [56/100], Loss: 3.5015\n"
     ]
    },
    {
     "name": "stderr",
     "output_type": "stream",
     "text": [
      "100%|███████████████████████████████████████████████████████████████████████████| 10748/10748 [00:18<00:00, 570.91it/s]\n",
      "  1%|▋                                                                            | 100/10748 [00:00<00:17, 596.83it/s]"
     ]
    },
    {
     "name": "stdout",
     "output_type": "stream",
     "text": [
      "epoch [57/100], Loss: 3.3905\n"
     ]
    },
    {
     "name": "stderr",
     "output_type": "stream",
     "text": [
      "100%|███████████████████████████████████████████████████████████████████████████| 10748/10748 [00:18<00:00, 589.23it/s]\n",
      "  1%|▋                                                                            | 100/10748 [00:00<00:17, 622.78it/s]"
     ]
    },
    {
     "name": "stdout",
     "output_type": "stream",
     "text": [
      "epoch [58/100], Loss: 3.2736\n"
     ]
    },
    {
     "name": "stderr",
     "output_type": "stream",
     "text": [
      "100%|███████████████████████████████████████████████████████████████████████████| 10748/10748 [00:18<00:00, 583.58it/s]\n",
      "  1%|▋                                                                            | 100/10748 [00:00<00:18, 563.30it/s]"
     ]
    },
    {
     "name": "stdout",
     "output_type": "stream",
     "text": [
      "epoch [59/100], Loss: 2.8204\n"
     ]
    },
    {
     "name": "stderr",
     "output_type": "stream",
     "text": [
      "100%|███████████████████████████████████████████████████████████████████████████| 10748/10748 [00:18<00:00, 573.80it/s]\n",
      "  1%|▋                                                                            | 100/10748 [00:00<00:17, 611.39it/s]"
     ]
    },
    {
     "name": "stdout",
     "output_type": "stream",
     "text": [
      "epoch [60/100], Loss: 2.8430\n"
     ]
    },
    {
     "name": "stderr",
     "output_type": "stream",
     "text": [
      "100%|███████████████████████████████████████████████████████████████████████████| 10748/10748 [00:18<00:00, 577.24it/s]\n",
      "  1%|▋                                                                            | 100/10748 [00:00<00:18, 586.36it/s]"
     ]
    },
    {
     "name": "stdout",
     "output_type": "stream",
     "text": [
      "epoch [61/100], Loss: 2.3904\n"
     ]
    },
    {
     "name": "stderr",
     "output_type": "stream",
     "text": [
      "100%|███████████████████████████████████████████████████████████████████████████| 10748/10748 [00:18<00:00, 578.30it/s]\n",
      "  1%|▋                                                                            | 100/10748 [00:00<00:17, 607.69it/s]"
     ]
    },
    {
     "name": "stdout",
     "output_type": "stream",
     "text": [
      "epoch [62/100], Loss: 2.6036\n"
     ]
    },
    {
     "name": "stderr",
     "output_type": "stream",
     "text": [
      "100%|███████████████████████████████████████████████████████████████████████████| 10748/10748 [00:18<00:00, 586.17it/s]\n",
      "  1%|▋                                                                            | 100/10748 [00:00<00:17, 618.94it/s]"
     ]
    },
    {
     "name": "stdout",
     "output_type": "stream",
     "text": [
      "epoch [63/100], Loss: 2.4394\n"
     ]
    },
    {
     "name": "stderr",
     "output_type": "stream",
     "text": [
      "100%|███████████████████████████████████████████████████████████████████████████| 10748/10748 [00:18<00:00, 582.42it/s]\n",
      "  1%|▋                                                                            | 100/10748 [00:00<00:17, 600.41it/s]"
     ]
    },
    {
     "name": "stdout",
     "output_type": "stream",
     "text": [
      "epoch [64/100], Loss: 2.6005\n"
     ]
    },
    {
     "name": "stderr",
     "output_type": "stream",
     "text": [
      "100%|███████████████████████████████████████████████████████████████████████████| 10748/10748 [00:18<00:00, 586.08it/s]\n",
      "  1%|▋                                                                            | 100/10748 [00:00<00:17, 604.88it/s]"
     ]
    },
    {
     "name": "stdout",
     "output_type": "stream",
     "text": [
      "epoch [65/100], Loss: 2.2897\n"
     ]
    },
    {
     "name": "stderr",
     "output_type": "stream",
     "text": [
      "100%|███████████████████████████████████████████████████████████████████████████| 10748/10748 [00:18<00:00, 574.97it/s]\n",
      "  1%|▋                                                                            | 100/10748 [00:00<00:17, 618.92it/s]"
     ]
    },
    {
     "name": "stdout",
     "output_type": "stream",
     "text": [
      "epoch [66/100], Loss: 5.4824\n"
     ]
    },
    {
     "name": "stderr",
     "output_type": "stream",
     "text": [
      "100%|███████████████████████████████████████████████████████████████████████████| 10748/10748 [00:18<00:00, 573.06it/s]\n",
      "  0%|                                                                                        | 0/10748 [00:00<?, ?it/s]"
     ]
    },
    {
     "name": "stdout",
     "output_type": "stream",
     "text": [
      "epoch [67/100], Loss: 8.5818\n"
     ]
    },
    {
     "name": "stderr",
     "output_type": "stream",
     "text": [
      "100%|███████████████████████████████████████████████████████████████████████████| 10748/10748 [00:18<00:00, 574.76it/s]\n",
      "  1%|▋                                                                            | 100/10748 [00:00<00:17, 604.02it/s]"
     ]
    },
    {
     "name": "stdout",
     "output_type": "stream",
     "text": [
      "epoch [68/100], Loss: 12.5998\n"
     ]
    },
    {
     "name": "stderr",
     "output_type": "stream",
     "text": [
      "100%|███████████████████████████████████████████████████████████████████████████| 10748/10748 [00:18<00:00, 579.97it/s]\n",
      "  0%|                                                                                        | 0/10748 [00:00<?, ?it/s]"
     ]
    },
    {
     "name": "stdout",
     "output_type": "stream",
     "text": [
      "epoch [69/100], Loss: 10.7377\n"
     ]
    },
    {
     "name": "stderr",
     "output_type": "stream",
     "text": [
      "100%|███████████████████████████████████████████████████████████████████████████| 10748/10748 [00:18<00:00, 581.04it/s]\n",
      "  1%|▋                                                                            | 100/10748 [00:00<00:17, 600.40it/s]"
     ]
    },
    {
     "name": "stdout",
     "output_type": "stream",
     "text": [
      "epoch [70/100], Loss: 13.7819\n"
     ]
    },
    {
     "name": "stderr",
     "output_type": "stream",
     "text": [
      "100%|███████████████████████████████████████████████████████████████████████████| 10748/10748 [00:18<00:00, 576.71it/s]\n",
      "  0%|                                                                                        | 0/10748 [00:00<?, ?it/s]"
     ]
    },
    {
     "name": "stdout",
     "output_type": "stream",
     "text": [
      "epoch [71/100], Loss: 10.4820\n"
     ]
    },
    {
     "name": "stderr",
     "output_type": "stream",
     "text": [
      "100%|███████████████████████████████████████████████████████████████████████████| 10748/10748 [00:18<00:00, 581.11it/s]\n",
      "  0%|                                                                                        | 0/10748 [00:00<?, ?it/s]"
     ]
    },
    {
     "name": "stdout",
     "output_type": "stream",
     "text": [
      "epoch [72/100], Loss: 8.0285\n"
     ]
    },
    {
     "name": "stderr",
     "output_type": "stream",
     "text": [
      "100%|███████████████████████████████████████████████████████████████████████████| 10748/10748 [00:18<00:00, 577.48it/s]\n",
      "  1%|▋                                                                            | 100/10748 [00:00<00:17, 607.69it/s]"
     ]
    },
    {
     "name": "stdout",
     "output_type": "stream",
     "text": [
      "epoch [73/100], Loss: 5.5359\n"
     ]
    },
    {
     "name": "stderr",
     "output_type": "stream",
     "text": [
      "100%|███████████████████████████████████████████████████████████████████████████| 10748/10748 [00:18<00:00, 582.49it/s]\n",
      "  1%|▋                                                                            | 100/10748 [00:00<00:17, 618.94it/s]"
     ]
    },
    {
     "name": "stdout",
     "output_type": "stream",
     "text": [
      "epoch [74/100], Loss: 4.2350\n"
     ]
    },
    {
     "name": "stderr",
     "output_type": "stream",
     "text": [
      "100%|███████████████████████████████████████████████████████████████████████████| 10748/10748 [00:18<00:00, 582.72it/s]\n",
      "  0%|                                                                                        | 0/10748 [00:00<?, ?it/s]"
     ]
    },
    {
     "name": "stdout",
     "output_type": "stream",
     "text": [
      "epoch [75/100], Loss: 3.5255\n"
     ]
    },
    {
     "name": "stderr",
     "output_type": "stream",
     "text": [
      "100%|███████████████████████████████████████████████████████████████████████████| 10748/10748 [00:18<00:00, 581.58it/s]\n",
      "  0%|                                                                                        | 0/10748 [00:00<?, ?it/s]"
     ]
    },
    {
     "name": "stdout",
     "output_type": "stream",
     "text": [
      "epoch [76/100], Loss: 2.7079\n"
     ]
    },
    {
     "name": "stderr",
     "output_type": "stream",
     "text": [
      "100%|███████████████████████████████████████████████████████████████████████████| 10748/10748 [00:18<00:00, 583.72it/s]\n",
      "  0%|                                                                                        | 0/10748 [00:00<?, ?it/s]"
     ]
    },
    {
     "name": "stdout",
     "output_type": "stream",
     "text": [
      "epoch [77/100], Loss: 2.3140\n"
     ]
    },
    {
     "name": "stderr",
     "output_type": "stream",
     "text": [
      "100%|███████████████████████████████████████████████████████████████████████████| 10748/10748 [00:18<00:00, 579.01it/s]\n",
      "  1%|▋                                                                            | 100/10748 [00:00<00:17, 593.30it/s]"
     ]
    },
    {
     "name": "stdout",
     "output_type": "stream",
     "text": [
      "epoch [78/100], Loss: 2.7708\n"
     ]
    },
    {
     "name": "stderr",
     "output_type": "stream",
     "text": [
      "100%|███████████████████████████████████████████████████████████████████████████| 10748/10748 [00:18<00:00, 584.59it/s]\n",
      "  1%|▋                                                                            | 100/10748 [00:00<00:17, 593.30it/s]"
     ]
    },
    {
     "name": "stdout",
     "output_type": "stream",
     "text": [
      "epoch [79/100], Loss: 2.1382\n"
     ]
    },
    {
     "name": "stderr",
     "output_type": "stream",
     "text": [
      "100%|███████████████████████████████████████████████████████████████████████████| 10748/10748 [00:18<00:00, 569.19it/s]\n",
      "  0%|                                                                                        | 0/10748 [00:00<?, ?it/s]"
     ]
    },
    {
     "name": "stdout",
     "output_type": "stream",
     "text": [
      "epoch [80/100], Loss: 2.0191\n"
     ]
    },
    {
     "name": "stderr",
     "output_type": "stream",
     "text": [
      "100%|███████████████████████████████████████████████████████████████████████████| 10748/10748 [00:18<00:00, 571.38it/s]\n",
      "  1%|▋                                                                            | 100/10748 [00:00<00:17, 611.29it/s]"
     ]
    },
    {
     "name": "stdout",
     "output_type": "stream",
     "text": [
      "epoch [81/100], Loss: 1.9372\n"
     ]
    },
    {
     "name": "stderr",
     "output_type": "stream",
     "text": [
      "100%|███████████████████████████████████████████████████████████████████████████| 10748/10748 [00:18<00:00, 581.28it/s]\n",
      "  1%|▋                                                                            | 100/10748 [00:00<00:18, 582.95it/s]"
     ]
    },
    {
     "name": "stdout",
     "output_type": "stream",
     "text": [
      "epoch [82/100], Loss: 1.7725\n"
     ]
    },
    {
     "name": "stderr",
     "output_type": "stream",
     "text": [
      "100%|███████████████████████████████████████████████████████████████████████████| 10748/10748 [00:18<00:00, 585.84it/s]\n",
      "  0%|                                                                                        | 0/10748 [00:00<?, ?it/s]"
     ]
    },
    {
     "name": "stdout",
     "output_type": "stream",
     "text": [
      "epoch [83/100], Loss: 1.6713\n"
     ]
    },
    {
     "name": "stderr",
     "output_type": "stream",
     "text": [
      "100%|███████████████████████████████████████████████████████████████████████████| 10748/10748 [00:18<00:00, 577.14it/s]\n",
      "  1%|▋                                                                            | 100/10748 [00:00<00:17, 604.02it/s]"
     ]
    },
    {
     "name": "stdout",
     "output_type": "stream",
     "text": [
      "epoch [84/100], Loss: 1.5964\n"
     ]
    },
    {
     "name": "stderr",
     "output_type": "stream",
     "text": [
      "100%|███████████████████████████████████████████████████████████████████████████| 10748/10748 [00:18<00:00, 577.32it/s]\n",
      "  1%|▋                                                                            | 100/10748 [00:00<00:17, 607.68it/s]"
     ]
    },
    {
     "name": "stdout",
     "output_type": "stream",
     "text": [
      "epoch [85/100], Loss: 1.4431\n"
     ]
    },
    {
     "name": "stderr",
     "output_type": "stream",
     "text": [
      "100%|███████████████████████████████████████████████████████████████████████████| 10748/10748 [00:18<00:00, 572.95it/s]\n",
      "  1%|▋                                                                            | 100/10748 [00:00<00:17, 622.78it/s]"
     ]
    },
    {
     "name": "stdout",
     "output_type": "stream",
     "text": [
      "epoch [86/100], Loss: 1.6138\n"
     ]
    },
    {
     "name": "stderr",
     "output_type": "stream",
     "text": [
      "100%|███████████████████████████████████████████████████████████████████████████| 10748/10748 [00:18<00:00, 579.34it/s]\n",
      "  1%|▋                                                                            | 100/10748 [00:00<00:17, 604.03it/s]"
     ]
    },
    {
     "name": "stdout",
     "output_type": "stream",
     "text": [
      "epoch [87/100], Loss: 1.5633\n"
     ]
    },
    {
     "name": "stderr",
     "output_type": "stream",
     "text": [
      "100%|███████████████████████████████████████████████████████████████████████████| 10748/10748 [00:18<00:00, 580.23it/s]\n",
      "  1%|▋                                                                            | 100/10748 [00:00<00:18, 586.36it/s]"
     ]
    },
    {
     "name": "stdout",
     "output_type": "stream",
     "text": [
      "epoch [88/100], Loss: 1.4798\n"
     ]
    },
    {
     "name": "stderr",
     "output_type": "stream",
     "text": [
      "100%|███████████████████████████████████████████████████████████████████████████| 10748/10748 [00:18<00:00, 580.20it/s]\n",
      "  1%|▋                                                                            | 100/10748 [00:00<00:17, 600.40it/s]"
     ]
    },
    {
     "name": "stdout",
     "output_type": "stream",
     "text": [
      "epoch [89/100], Loss: 1.4202\n"
     ]
    },
    {
     "name": "stderr",
     "output_type": "stream",
     "text": [
      "100%|███████████████████████████████████████████████████████████████████████████| 10748/10748 [00:18<00:00, 579.03it/s]\n",
      "  0%|                                                                                        | 0/10748 [00:00<?, ?it/s]"
     ]
    },
    {
     "name": "stdout",
     "output_type": "stream",
     "text": [
      "epoch [90/100], Loss: 1.3668\n"
     ]
    },
    {
     "name": "stderr",
     "output_type": "stream",
     "text": [
      "100%|███████████████████████████████████████████████████████████████████████████| 10748/10748 [00:18<00:00, 568.81it/s]\n",
      "  1%|▋                                                                            | 100/10748 [00:00<00:17, 615.03it/s]"
     ]
    },
    {
     "name": "stdout",
     "output_type": "stream",
     "text": [
      "epoch [91/100], Loss: 1.3693\n"
     ]
    },
    {
     "name": "stderr",
     "output_type": "stream",
     "text": [
      "100%|███████████████████████████████████████████████████████████████████████████| 10748/10748 [00:18<00:00, 580.41it/s]\n",
      "  1%|▋                                                                            | 100/10748 [00:00<00:17, 607.69it/s]"
     ]
    },
    {
     "name": "stdout",
     "output_type": "stream",
     "text": [
      "epoch [92/100], Loss: 1.4253\n"
     ]
    },
    {
     "name": "stderr",
     "output_type": "stream",
     "text": [
      "100%|███████████████████████████████████████████████████████████████████████████| 10748/10748 [00:18<00:00, 582.77it/s]\n",
      "  1%|▋                                                                            | 100/10748 [00:00<00:17, 611.39it/s]"
     ]
    },
    {
     "name": "stdout",
     "output_type": "stream",
     "text": [
      "epoch [93/100], Loss: 1.2334\n"
     ]
    },
    {
     "name": "stderr",
     "output_type": "stream",
     "text": [
      "100%|███████████████████████████████████████████████████████████████████████████| 10748/10748 [00:18<00:00, 570.23it/s]\n",
      "  1%|▋                                                                            | 100/10748 [00:00<00:17, 596.89it/s]"
     ]
    },
    {
     "name": "stdout",
     "output_type": "stream",
     "text": [
      "epoch [94/100], Loss: 1.1875\n"
     ]
    },
    {
     "name": "stderr",
     "output_type": "stream",
     "text": [
      "100%|███████████████████████████████████████████████████████████████████████████| 10748/10748 [00:18<00:00, 575.48it/s]\n",
      "  1%|▋                                                                            | 100/10748 [00:00<00:17, 600.40it/s]"
     ]
    },
    {
     "name": "stdout",
     "output_type": "stream",
     "text": [
      "epoch [95/100], Loss: 1.0849\n"
     ]
    },
    {
     "name": "stderr",
     "output_type": "stream",
     "text": [
      "100%|███████████████████████████████████████████████████████████████████████████| 10748/10748 [00:18<00:00, 579.95it/s]\n",
      "  1%|▋                                                                            | 100/10748 [00:00<00:18, 579.58it/s]"
     ]
    },
    {
     "name": "stdout",
     "output_type": "stream",
     "text": [
      "epoch [96/100], Loss: 1.1509\n"
     ]
    },
    {
     "name": "stderr",
     "output_type": "stream",
     "text": [
      "100%|███████████████████████████████████████████████████████████████████████████| 10748/10748 [00:18<00:00, 577.68it/s]\n",
      "  1%|▋                                                                            | 100/10748 [00:00<00:17, 611.39it/s]"
     ]
    },
    {
     "name": "stdout",
     "output_type": "stream",
     "text": [
      "epoch [97/100], Loss: 1.1443\n"
     ]
    },
    {
     "name": "stderr",
     "output_type": "stream",
     "text": [
      "100%|███████████████████████████████████████████████████████████████████████████| 10748/10748 [00:18<00:00, 567.95it/s]\n",
      "  1%|▋                                                                            | 100/10748 [00:00<00:17, 615.14it/s]"
     ]
    },
    {
     "name": "stdout",
     "output_type": "stream",
     "text": [
      "epoch [98/100], Loss: 1.1057\n"
     ]
    },
    {
     "name": "stderr",
     "output_type": "stream",
     "text": [
      "100%|███████████████████████████████████████████████████████████████████████████| 10748/10748 [00:18<00:00, 574.92it/s]\n",
      "  1%|▋                                                                            | 100/10748 [00:00<00:17, 600.87it/s]"
     ]
    },
    {
     "name": "stdout",
     "output_type": "stream",
     "text": [
      "epoch [99/100], Loss: 1.0020\n"
     ]
    },
    {
     "name": "stderr",
     "output_type": "stream",
     "text": [
      "100%|███████████████████████████████████████████████████████████████████████████| 10748/10748 [00:18<00:00, 573.44it/s]\n"
     ]
    },
    {
     "name": "stdout",
     "output_type": "stream",
     "text": [
      "epoch [100/100], Loss: 1.0190\n"
     ]
    }
   ],
   "source": [
    "import os\n",
    "import shutil\n",
    "import pickle as pk\n",
    "from torch.utils.tensorboard import SummaryWriter\n",
    "\n",
    "\n",
    "# 构建模型\n",
    "model = bilstm_crf(parameter).to(parameter['device'])\n",
    "\n",
    "# 确定训练模式\n",
    "model.train()\n",
    "\n",
    "# 确定优化器和损失\n",
    "optimizer = torch.optim.SGD(model.parameters(),lr=0.00005, momentum=0.95, nesterov=True)\n",
    "# optimizer = torch.optim.Adam(model.parameters(),lr = parameter['lr'], \\\n",
    "#                              weight_decay = 0.01)\n",
    "\n",
    "# 准备学习率策略\n",
    "scheduler = torch.optim.lr_scheduler.StepLR(optimizer, step_size=10, gamma=0.9)\n",
    "\n",
    "# 准备迭代器\n",
    "train_yield = batch_yield(parameter)\n",
    "\n",
    "# 开始训练\n",
    "loss_cal = []\n",
    "min_loss = float('inf')\n",
    "while 1:\n",
    "        inputs,targets,epoch,keys = next(train_yield)\n",
    "        if keys:\n",
    "            break\n",
    "        out = model(inputs.long().to(parameter['device']))\n",
    "        loss = -model.crf(out,targets.long().to(parameter['device']))\n",
    "        optimizer.zero_grad()\n",
    "        loss.backward()\n",
    "        optimizer.step()\n",
    "        loss_cal.append(loss.item())\n",
    "        if epoch is not None:\n",
    "            if (epoch+1)%1 == 0:\n",
    "                loss_cal = sum(loss_cal)/len(loss_cal)\n",
    "                if loss_cal < min_loss:\n",
    "                    min_loss = loss_cal\n",
    "                    torch.save(model.state_dict(), 'bilstm_crf.h5')\n",
    "                print('epoch [{}/{}], Loss: {:.4f}'.format(epoch+1, \\\n",
    "                                                       parameter['epoch'],loss_cal))\n",
    "            loss_cal = [loss.item()]\n",
    "            scheduler.step()\n"
   ]
  }
 ],
 "metadata": {
  "kernelspec": {
   "display_name": "nlp",
   "language": "python",
   "name": "nlp"
  },
  "language_info": {
   "codemirror_mode": {
    "name": "ipython",
    "version": 3
   },
   "file_extension": ".py",
   "mimetype": "text/x-python",
   "name": "python",
   "nbconvert_exporter": "python",
   "pygments_lexer": "ipython3",
   "version": "3.6.13"
  },
  "toc": {
   "base_numbering": 1,
   "nav_menu": {},
   "number_sections": true,
   "sideBar": true,
   "skip_h1_title": false,
   "title_cell": "Table of Contents",
   "title_sidebar": "Contents",
   "toc_cell": false,
   "toc_position": {},
   "toc_section_display": true,
   "toc_window_display": false
  },
  "varInspector": {
   "cols": {
    "lenName": 16,
    "lenType": 16,
    "lenVar": 40
   },
   "kernels_config": {
    "python": {
     "delete_cmd_postfix": "",
     "delete_cmd_prefix": "del ",
     "library": "var_list.py",
     "varRefreshCmd": "print(var_dic_list())"
    },
    "r": {
     "delete_cmd_postfix": ") ",
     "delete_cmd_prefix": "rm(",
     "library": "var_list.r",
     "varRefreshCmd": "cat(var_dic_list()) "
    }
   },
   "types_to_exclude": [
    "module",
    "function",
    "builtin_function_or_method",
    "instance",
    "_Feature"
   ],
   "window_display": false
  }
 },
 "nbformat": 4,
 "nbformat_minor": 2
}
